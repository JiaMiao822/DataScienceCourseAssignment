{
 "cells": [
  {
   "cell_type": "markdown",
   "id": "4bfac808-91e7-4d0b-aaba-bce02e94ff23",
   "metadata": {},
   "source": [
    "# Data Science Tools and Ecosystem"
   ]
  },
  {
   "cell_type": "markdown",
   "id": "a499bc9d-2d32-4192-bd15-afa9360fa513",
   "metadata": {},
   "source": [
    "In this notebook, Data Science Tools and Ecosystem are summarized."
   ]
  },
  {
   "cell_type": "markdown",
   "id": "230a6d51-cf55-4c85-a591-cc3c203c0820",
   "metadata": {},
   "source": [
    "__Objectives:__\n",
    "- List popular languages for Data Science.\n",
    "- List commonly used libraries for Data Science.\n",
    "- List three development environment open source tools used in data science.\n",
    "- Introduce arithmetic expression examples in Python."
   ]
  },
  {
   "cell_type": "markdown",
   "id": "90e06e1c-8d9c-4f4f-a537-635118e6d8c0",
   "metadata": {},
   "source": [
    "Some of the popular languages that Data Scientists use are:\n",
    "1. Python\n",
    "2. R\n",
    "3. SQL\n",
    "4. Julia\n",
    "5. Scala\n",
    "6. Java\n",
    "7. C++"
   ]
  },
  {
   "cell_type": "markdown",
   "id": "73a19305-0209-4a90-bc63-db3c2138af01",
   "metadata": {},
   "source": [
    "Some of the commonly used libraries used by Data Scientists include:\n",
    "1. __Panda__: Data manipulation and analysis.\n",
    "2. __NumPy__: Numerical computing.\n",
    "3. __Matplotlib__: Data visualization.\n",
    "4. __Seaborn__: Statistical data visualization.\n",
    "5. __scikit-learn__: Machine learning.\n",
    "6. __TensorFlow__: Deep learning.\n",
    "7. __PyTorch__: Deep learning."
   ]
  },
  {
   "cell_type": "markdown",
   "id": "6f91ab5b-1270-45fd-a74a-9cc8c8699e37",
   "metadata": {},
   "source": [
    "| Data Scientist Tools|\n",
    "|--------------------|\n",
    "| Jupyter Notebook|\n",
    "| RStudio|\n",
    "| Apache Zeppelin|"
   ]
  },
  {
   "cell_type": "markdown",
   "id": "67eadab6-88eb-4f91-9233-f80d153408d2",
   "metadata": {},
   "source": [
    "### Below are a few examples of evaluating arithmetic expressions in Python"
   ]
  },
  {
   "cell_type": "code",
   "execution_count": 4,
   "id": "58442f53-f217-43ec-9a1e-bd83c9295f35",
   "metadata": {},
   "outputs": [
    {
     "data": {
      "text/plain": [
       "17"
      ]
     },
     "execution_count": 4,
     "metadata": {},
     "output_type": "execute_result"
    }
   ],
   "source": [
    "#This a simple arithmetic expression to mutiply then add integers\n",
    "(3*4)+5"
   ]
  },
  {
   "cell_type": "code",
   "execution_count": 5,
   "id": "00795bd0-984a-40bc-9ada-8c8a96a2a4f2",
   "metadata": {},
   "outputs": [
    {
     "name": "stdout",
     "output_type": "stream",
     "text": [
      "200 minutes is equal to 3.3333333333333335 hours\n"
     ]
    }
   ],
   "source": [
    "#This will convert 200 minutes to hours by diving by 60\n",
    "minutes = 200\n",
    "hours = minutes / 60\n",
    "print(f\"{minutes} minutes is equal to {hours} hours\")"
   ]
  },
  {
   "cell_type": "markdown",
   "id": "b39f639d-edaf-4227-9f9e-257c233eebba",
   "metadata": {},
   "source": [
    "## Author\n",
    "Jia Miao"
   ]
  }
 ],
 "metadata": {
  "kernelspec": {
   "display_name": "Python 3 (ipykernel)",
   "language": "python",
   "name": "python3"
  },
  "language_info": {
   "codemirror_mode": {
    "name": "ipython",
    "version": 3
   },
   "file_extension": ".py",
   "mimetype": "text/x-python",
   "name": "python",
   "nbconvert_exporter": "python",
   "pygments_lexer": "ipython3",
   "version": "3.12.4"
  }
 },
 "nbformat": 4,
 "nbformat_minor": 5
}
